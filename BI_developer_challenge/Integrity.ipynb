{
 "cells": [
  {
   "cell_type": "code",
   "execution_count": 1,
   "metadata": {},
   "outputs": [],
   "source": [
    "#Import all the packages\n",
    "import pandas as pd\n",
    "import numpy as np\n",
    "from scipy.stats import mode\n",
    "import datetime as dt\n",
    "import re"
   ]
  },
  {
   "cell_type": "code",
   "execution_count": 2,
   "metadata": {},
   "outputs": [],
   "source": [
    "#Read the TSV file\n",
    "df = pd.read_csv('E:/download/BI_Developer_Challenge/donedeal_data_sample.tsv',delimiter='\\t',encoding='utf-8')"
   ]
  },
  {
   "cell_type": "code",
   "execution_count": 3,
   "metadata": {},
   "outputs": [
    {
     "data": {
      "text/html": [
       "<div>\n",
       "<style scoped>\n",
       "    .dataframe tbody tr th:only-of-type {\n",
       "        vertical-align: middle;\n",
       "    }\n",
       "\n",
       "    .dataframe tbody tr th {\n",
       "        vertical-align: top;\n",
       "    }\n",
       "\n",
       "    .dataframe thead th {\n",
       "        text-align: right;\n",
       "    }\n",
       "</style>\n",
       "<table border=\"1\" class=\"dataframe\">\n",
       "  <thead>\n",
       "    <tr style=\"text-align: right;\">\n",
       "      <th></th>\n",
       "      <th>ad</th>\n",
       "      <th>date</th>\n",
       "      <th>price</th>\n",
       "      <th>county</th>\n",
       "      <th>make</th>\n",
       "      <th>model</th>\n",
       "      <th>year</th>\n",
       "      <th>colour</th>\n",
       "      <th>mileage</th>\n",
       "      <th>mileageType</th>\n",
       "      <th>engine_cc</th>\n",
       "      <th>body_type</th>\n",
       "      <th>fuel_type</th>\n",
       "      <th>transmission</th>\n",
       "      <th>doors</th>\n",
       "      <th>seller_type</th>\n",
       "    </tr>\n",
       "  </thead>\n",
       "  <tbody>\n",
       "    <tr>\n",
       "      <th>0</th>\n",
       "      <td>f4ec8a11c20bd4da5322c6cf48f49560</td>\n",
       "      <td>2016-08-12</td>\n",
       "      <td>1250.0</td>\n",
       "      <td>Tipperary</td>\n",
       "      <td>ford</td>\n",
       "      <td>focus</td>\n",
       "      <td>2004.0</td>\n",
       "      <td>grey</td>\n",
       "      <td>182620.0</td>\n",
       "      <td>miles</td>\n",
       "      <td>1800.0</td>\n",
       "      <td>saloon</td>\n",
       "      <td>diesel</td>\n",
       "      <td>manual</td>\n",
       "      <td>4.0</td>\n",
       "      <td>feed</td>\n",
       "    </tr>\n",
       "    <tr>\n",
       "      <th>1</th>\n",
       "      <td>2deccc36451be8362cd4faa696d5039c</td>\n",
       "      <td>2016-07-13</td>\n",
       "      <td>11500.0</td>\n",
       "      <td>Limerick</td>\n",
       "      <td>mercedes-benz</td>\n",
       "      <td>e-class</td>\n",
       "      <td>2008.0</td>\n",
       "      <td>other</td>\n",
       "      <td>186000.0</td>\n",
       "      <td>kilometres</td>\n",
       "      <td>2200.0</td>\n",
       "      <td>saloon</td>\n",
       "      <td>diesel</td>\n",
       "      <td>automatic</td>\n",
       "      <td>4.0</td>\n",
       "      <td>feed</td>\n",
       "    </tr>\n",
       "    <tr>\n",
       "      <th>2</th>\n",
       "      <td>4fd37b51753ef073d242664cbe136b27</td>\n",
       "      <td>2016-08-08</td>\n",
       "      <td>5150.0</td>\n",
       "      <td>Tipperary</td>\n",
       "      <td>toyota</td>\n",
       "      <td>yaris</td>\n",
       "      <td>2007.0</td>\n",
       "      <td>red</td>\n",
       "      <td>65511.0</td>\n",
       "      <td>kilometres</td>\n",
       "      <td>1000.0</td>\n",
       "      <td>hatchback</td>\n",
       "      <td>petrol</td>\n",
       "      <td>manual</td>\n",
       "      <td>5.0</td>\n",
       "      <td>private</td>\n",
       "    </tr>\n",
       "    <tr>\n",
       "      <th>3</th>\n",
       "      <td>c4d50c214f33d26b070bea3afaef3f94</td>\n",
       "      <td>2016-09-06</td>\n",
       "      <td>350.0</td>\n",
       "      <td>Tipperary</td>\n",
       "      <td>opel</td>\n",
       "      <td>astra</td>\n",
       "      <td>2002.0</td>\n",
       "      <td>silver</td>\n",
       "      <td>153000.0</td>\n",
       "      <td>miles</td>\n",
       "      <td>1400.0</td>\n",
       "      <td>saloon</td>\n",
       "      <td>petrol</td>\n",
       "      <td>manual</td>\n",
       "      <td>4.0</td>\n",
       "      <td>private</td>\n",
       "    </tr>\n",
       "    <tr>\n",
       "      <th>4</th>\n",
       "      <td>3214bb3fd055ab19a2299f748338e6fd</td>\n",
       "      <td>2016-08-16</td>\n",
       "      <td>34950.0</td>\n",
       "      <td>Clare</td>\n",
       "      <td>audi</td>\n",
       "      <td>a6</td>\n",
       "      <td>2014.0</td>\n",
       "      <td>black</td>\n",
       "      <td>18800.0</td>\n",
       "      <td>miles</td>\n",
       "      <td>2000.0</td>\n",
       "      <td>estate</td>\n",
       "      <td>diesel</td>\n",
       "      <td>manual</td>\n",
       "      <td>5.0</td>\n",
       "      <td>trader</td>\n",
       "    </tr>\n",
       "  </tbody>\n",
       "</table>\n",
       "</div>"
      ],
      "text/plain": [
       "                                 ad        date    price     county  \\\n",
       "0  f4ec8a11c20bd4da5322c6cf48f49560  2016-08-12   1250.0  Tipperary   \n",
       "1  2deccc36451be8362cd4faa696d5039c  2016-07-13  11500.0   Limerick   \n",
       "2  4fd37b51753ef073d242664cbe136b27  2016-08-08   5150.0  Tipperary   \n",
       "3  c4d50c214f33d26b070bea3afaef3f94  2016-09-06    350.0  Tipperary   \n",
       "4  3214bb3fd055ab19a2299f748338e6fd  2016-08-16  34950.0      Clare   \n",
       "\n",
       "            make    model    year  colour   mileage mileageType  engine_cc  \\\n",
       "0           ford    focus  2004.0    grey  182620.0       miles     1800.0   \n",
       "1  mercedes-benz  e-class  2008.0   other  186000.0  kilometres     2200.0   \n",
       "2         toyota    yaris  2007.0     red   65511.0  kilometres     1000.0   \n",
       "3           opel    astra  2002.0  silver  153000.0       miles     1400.0   \n",
       "4           audi       a6  2014.0   black   18800.0       miles     2000.0   \n",
       "\n",
       "   body_type fuel_type transmission  doors seller_type  \n",
       "0     saloon    diesel       manual    4.0        feed  \n",
       "1     saloon    diesel    automatic    4.0        feed  \n",
       "2  hatchback    petrol       manual    5.0     private  \n",
       "3     saloon    petrol       manual    4.0     private  \n",
       "4     estate    diesel       manual    5.0      trader  "
      ]
     },
     "execution_count": 3,
     "metadata": {},
     "output_type": "execute_result"
    }
   ],
   "source": [
    "df.head()"
   ]
  },
  {
   "cell_type": "code",
   "execution_count": 4,
   "metadata": {},
   "outputs": [
    {
     "data": {
      "text/plain": [
       "ad               object\n",
       "date             object\n",
       "price           float64\n",
       "county           object\n",
       "make             object\n",
       "model            object\n",
       "year            float64\n",
       "colour           object\n",
       "mileage         float64\n",
       "mileageType      object\n",
       "engine_cc       float64\n",
       "body_type        object\n",
       "fuel_type        object\n",
       "transmission     object\n",
       "doors           float64\n",
       "seller_type      object\n",
       "dtype: object"
      ]
     },
     "execution_count": 4,
     "metadata": {},
     "output_type": "execute_result"
    }
   ],
   "source": [
    "df.dtypes"
   ]
  },
  {
   "cell_type": "code",
   "execution_count": 5,
   "metadata": {
    "scrolled": false
   },
   "outputs": [
    {
     "name": "stdout",
     "output_type": "stream",
     "text": [
      "Missing Values per columns:\n"
     ]
    },
    {
     "data": {
      "text/plain": [
       "ad                 0\n",
       "date               0\n",
       "price           1061\n",
       "county             0\n",
       "make               0\n",
       "model             26\n",
       "year               4\n",
       "colour           812\n",
       "mileage         2250\n",
       "mileageType      355\n",
       "engine_cc        338\n",
       "body_type        980\n",
       "fuel_type        174\n",
       "transmission     467\n",
       "doors           2989\n",
       "seller_type        0\n",
       "dtype: int64"
      ]
     },
     "execution_count": 5,
     "metadata": {},
     "output_type": "execute_result"
    }
   ],
   "source": [
    "# Write the function to get the null values\n",
    "def num_missing(x):\n",
    "    return sum(x.isnull())\n",
    "\n",
    "print(\"Missing Values per columns:\")\n",
    "df.apply(num_missing, axis=0)"
   ]
  },
  {
   "cell_type": "code",
   "execution_count": 6,
   "metadata": {},
   "outputs": [
    {
     "data": {
      "text/plain": [
       "ad               object\n",
       "date             object\n",
       "price           float64\n",
       "county           object\n",
       "make             object\n",
       "model            object\n",
       "year            float64\n",
       "colour           object\n",
       "mileage         float64\n",
       "mileageType      object\n",
       "engine_cc       float64\n",
       "body_type        object\n",
       "fuel_type        object\n",
       "transmission     object\n",
       "doors           float64\n",
       "seller_type      object\n",
       "dtype: object"
      ]
     },
     "execution_count": 6,
     "metadata": {},
     "output_type": "execute_result"
    }
   ],
   "source": [
    "df.dtypes"
   ]
  },
  {
   "cell_type": "code",
   "execution_count": 7,
   "metadata": {},
   "outputs": [],
   "source": [
    "# Use MODE to replace the blanks following columns\n",
    "df['price'].fillna(mode(df['price']).mode[0],inplace=True)\n",
    "df['mileage'].fillna(mode(df['mileage']).mode[0],inplace=True)\n",
    "df['engine_cc'].fillna(mode(df['engine_cc']).mode[0],inplace=True)\n",
    "df['doors'].fillna(mode(df['doors']).mode[0],inplace=True)"
   ]
  },
  {
   "cell_type": "code",
   "execution_count": 8,
   "metadata": {},
   "outputs": [],
   "source": [
    "#Change the datatype\n",
    "df['price']= df['price'].astype(int)\n",
    "df['mileage']= df['mileage'].astype(int)\n",
    "df['engine_cc'] = df['engine_cc'].astype(int)\n",
    "df['doors'] = df['doors'].astype(int)"
   ]
  },
  {
   "cell_type": "code",
   "execution_count": 9,
   "metadata": {},
   "outputs": [],
   "source": [
    "#Remove the numeric value and blanks\n",
    "df2 = df[df['mileageType'].isin(['km', 'miles','kilometres'])]"
   ]
  },
  {
   "cell_type": "code",
   "execution_count": 10,
   "metadata": {
    "scrolled": true
   },
   "outputs": [
    {
     "name": "stderr",
     "output_type": "stream",
     "text": [
      "C:\\Users\\Shailesh\\Anaconda3\\lib\\site-packages\\ipykernel_launcher.py:2: SettingWithCopyWarning: \n",
      "A value is trying to be set on a copy of a slice from a DataFrame.\n",
      "Try using .loc[row_indexer,col_indexer] = value instead\n",
      "\n",
      "See the caveats in the documentation: http://pandas.pydata.org/pandas-docs/stable/indexing.html#indexing-view-versus-copy\n",
      "  \n"
     ]
    }
   ],
   "source": [
    "#Select model\n",
    "df2['model']=df2['model'].str.extract('([a-z]\\w{0,})', expand=True)"
   ]
  },
  {
   "cell_type": "code",
   "execution_count": null,
   "metadata": {
    "scrolled": true
   },
   "outputs": [],
   "source": [
    "df2"
   ]
  },
  {
   "cell_type": "code",
   "execution_count": 11,
   "metadata": {},
   "outputs": [],
   "source": [
    "df3= df2.dropna(axis=0, subset=['year'])"
   ]
  },
  {
   "cell_type": "code",
   "execution_count": null,
   "metadata": {},
   "outputs": [],
   "source": [
    "df3"
   ]
  },
  {
   "cell_type": "code",
   "execution_count": 12,
   "metadata": {},
   "outputs": [
    {
     "name": "stderr",
     "output_type": "stream",
     "text": [
      "C:\\Users\\Shailesh\\Anaconda3\\lib\\site-packages\\ipykernel_launcher.py:2: SettingWithCopyWarning: \n",
      "A value is trying to be set on a copy of a slice from a DataFrame.\n",
      "Try using .loc[row_indexer,col_indexer] = value instead\n",
      "\n",
      "See the caveats in the documentation: http://pandas.pydata.org/pandas-docs/stable/indexing.html#indexing-view-versus-copy\n",
      "  \n"
     ]
    }
   ],
   "source": [
    "#Change type into INT\n",
    "df3['year'] = df3['year'].astype(int)"
   ]
  },
  {
   "cell_type": "code",
   "execution_count": 13,
   "metadata": {},
   "outputs": [],
   "source": [
    "#REmove the numeric values\n",
    "df4 = df3[(df3['year'] > 1990)]"
   ]
  },
  {
   "cell_type": "code",
   "execution_count": null,
   "metadata": {},
   "outputs": [],
   "source": [
    "df4.to_csv('test.csv')"
   ]
  },
  {
   "cell_type": "code",
   "execution_count": 14,
   "metadata": {},
   "outputs": [],
   "source": [
    "df['colour']=df4['colour'].fillna(method='ffill')"
   ]
  },
  {
   "cell_type": "code",
   "execution_count": null,
   "metadata": {
    "scrolled": false
   },
   "outputs": [],
   "source": [
    "df4"
   ]
  },
  {
   "cell_type": "code",
   "execution_count": 15,
   "metadata": {},
   "outputs": [],
   "source": [
    "impute_grps = df4.pivot_table(values=[\"price\"], index=[\"body_type\"], aggfunc=np.mean)"
   ]
  }
 ],
 "metadata": {
  "kernelspec": {
   "display_name": "Python 3",
   "language": "python",
   "name": "python3"
  },
  "language_info": {
   "codemirror_mode": {
    "name": "ipython",
    "version": 3
   },
   "file_extension": ".py",
   "mimetype": "text/x-python",
   "name": "python",
   "nbconvert_exporter": "python",
   "pygments_lexer": "ipython3",
   "version": "3.6.4"
  }
 },
 "nbformat": 4,
 "nbformat_minor": 2
}
