{
 "cells": [
  {
   "cell_type": "code",
   "execution_count": null,
   "metadata": {},
   "outputs": [],
   "source": [
    "!pip install petl"
   ]
  },
  {
   "cell_type": "code",
   "execution_count": 1,
   "metadata": {},
   "outputs": [],
   "source": [
    "#import the packages\n",
    "import petl as etl\n",
    "import pandas as pd\n",
    "import numpy as np"
   ]
  },
  {
   "cell_type": "code",
   "execution_count": 2,
   "metadata": {},
   "outputs": [],
   "source": [
    "table = (etl.fromcsv('C:/Users/Shailesh/test.csv'))"
   ]
  },
  {
   "cell_type": "code",
   "execution_count": 3,
   "metadata": {},
   "outputs": [
    {
     "data": {
      "text/plain": [
       "+------------------------------------+-------------+---------+-------------+-----------------+---------+--------+----------+----------+--------------+-----------+-------------+-----------+--------------+-------+-------------+\n",
       "| ad                                 | date        | price   | county      | make            | model   | year   | colour   | mileage  | mileageType  | engine_cc | body_type   | fuel_type | transmission | doors | seller_type |\n",
       "+====================================+=============+=========+=============+=================+=========+========+==========+==========+==============+===========+=============+===========+==============+=======+=============+\n",
       "| 'f4ec8a11c20bd4da5322c6cf48f49560' | '8/12/2016' | '1250'  | 'Tipperary' | 'ford'          | 'focus' | '2004' | 'grey'   | '182620' | 'miles'      | '1800'    | 'saloon'    | 'diesel'  | 'manual'     | '4'   | 'feed'      |\n",
       "+------------------------------------+-------------+---------+-------------+-----------------+---------+--------+----------+----------+--------------+-----------+-------------+-----------+--------------+-------+-------------+\n",
       "| '2deccc36451be8362cd4faa696d5039c' | '7/13/2016' | '11500' | 'Limerick'  | 'mercedes-benz' | 'e'     | '2008' | 'other'  | '186000' | 'kilometres' | '2200'    | 'saloon'    | 'diesel'  | 'automatic'  | '4'   | 'feed'      |\n",
       "+------------------------------------+-------------+---------+-------------+-----------------+---------+--------+----------+----------+--------------+-----------+-------------+-----------+--------------+-------+-------------+\n",
       "| '4fd37b51753ef073d242664cbe136b27' | '8/8/2016'  | '5150'  | 'Tipperary' | 'toyota'        | 'yaris' | '2007' | 'red'    | '65511'  | 'kilometres' | '1000'    | 'hatchback' | 'petrol'  | 'manual'     | '5'   | 'private'   |\n",
       "+------------------------------------+-------------+---------+-------------+-----------------+---------+--------+----------+----------+--------------+-----------+-------------+-----------+--------------+-------+-------------+\n",
       "| 'c4d50c214f33d26b070bea3afaef3f94' | '9/6/2016'  | '350'   | 'Tipperary' | 'opel'          | 'astra' | '2002' | 'silver' | '153000' | 'miles'      | '1400'    | 'saloon'    | 'petrol'  | 'manual'     | '4'   | 'private'   |\n",
       "+------------------------------------+-------------+---------+-------------+-----------------+---------+--------+----------+----------+--------------+-----------+-------------+-----------+--------------+-------+-------------+\n",
       "| '3214bb3fd055ab19a2299f748338e6fd' | '8/16/2016' | '34950' | 'Clare'     | 'audi'          | 'a6'    | '2014' | 'black'  | '18800'  | 'miles'      | '2000'    | 'estate'    | 'diesel'  | 'manual'     | '5'   | 'trader'    |\n",
       "+------------------------------------+-------------+---------+-------------+-----------------+---------+--------+----------+----------+--------------+-----------+-------------+-----------+--------------+-------+-------------+\n",
       "..."
      ]
     },
     "execution_count": 3,
     "metadata": {},
     "output_type": "execute_result"
    }
   ],
   "source": [
    "table.look()"
   ]
  },
  {
   "cell_type": "code",
   "execution_count": 4,
   "metadata": {},
   "outputs": [
    {
     "data": {
      "text/html": [
       "<table class='petl'>\n",
       "<thead>\n",
       "<tr>\n",
       "<th>mileageType</th>\n",
       "<th>mileage</th>\n",
       "</tr>\n",
       "</thead>\n",
       "<tbody>\n",
       "<tr>\n",
       "<td>miles</td>\n",
       "<td>182620</td>\n",
       "</tr>\n",
       "<tr>\n",
       "<td>kilometres</td>\n",
       "<td>186000</td>\n",
       "</tr>\n",
       "<tr>\n",
       "<td>kilometres</td>\n",
       "<td>65511</td>\n",
       "</tr>\n",
       "<tr>\n",
       "<td>miles</td>\n",
       "<td>153000</td>\n",
       "</tr>\n",
       "<tr>\n",
       "<td>miles</td>\n",
       "<td>18800</td>\n",
       "</tr>\n",
       "</tbody>\n",
       "</table>\n",
       "<p><strong>...</strong></p>"
      ],
      "text/plain": [
       "+--------------+----------+\n",
       "| mileageType  | mileage  |\n",
       "+==============+==========+\n",
       "| 'miles'      | '182620' |\n",
       "+--------------+----------+\n",
       "| 'kilometres' | '186000' |\n",
       "+--------------+----------+\n",
       "| 'kilometres' | '65511'  |\n",
       "+--------------+----------+\n",
       "| 'miles'      | '153000' |\n",
       "+--------------+----------+\n",
       "| 'miles'      | '18800'  |\n",
       "+--------------+----------+\n",
       "..."
      ]
     },
     "execution_count": 4,
     "metadata": {},
     "output_type": "execute_result"
    }
   ],
   "source": [
    "table.cut(9,8)"
   ]
  },
  {
   "cell_type": "code",
   "execution_count": 5,
   "metadata": {},
   "outputs": [
    {
     "data": {
      "text/html": [
       "<table class='petl'>\n",
       "<thead>\n",
       "<tr>\n",
       "<th>row</th>\n",
       "<th>ad</th>\n",
       "<th>date</th>\n",
       "<th>price</th>\n",
       "<th>county</th>\n",
       "<th>make</th>\n",
       "<th>model</th>\n",
       "<th>year</th>\n",
       "<th>colour</th>\n",
       "<th>mileage</th>\n",
       "<th>mileageType</th>\n",
       "<th>engine_cc</th>\n",
       "<th>body_type</th>\n",
       "<th>fuel_type</th>\n",
       "<th>transmission</th>\n",
       "<th>doors</th>\n",
       "<th>seller_type</th>\n",
       "</tr>\n",
       "</thead>\n",
       "<tbody>\n",
       "<tr>\n",
       "<td style='text-align: right'>1</td>\n",
       "<td>f4ec8a11c20bd4da5322c6cf48f49560</td>\n",
       "<td>8/12/2016</td>\n",
       "<td>1250</td>\n",
       "<td>Tipperary</td>\n",
       "<td>ford</td>\n",
       "<td>focus</td>\n",
       "<td>2004</td>\n",
       "<td>grey</td>\n",
       "<td>182620</td>\n",
       "<td>miles</td>\n",
       "<td>1800</td>\n",
       "<td>saloon</td>\n",
       "<td>diesel</td>\n",
       "<td>manual</td>\n",
       "<td>4</td>\n",
       "<td>feed</td>\n",
       "</tr>\n",
       "<tr>\n",
       "<td style='text-align: right'>2</td>\n",
       "<td>2deccc36451be8362cd4faa696d5039c</td>\n",
       "<td>7/13/2016</td>\n",
       "<td>11500</td>\n",
       "<td>Limerick</td>\n",
       "<td>mercedes-benz</td>\n",
       "<td>e</td>\n",
       "<td>2008</td>\n",
       "<td>other</td>\n",
       "<td>186000</td>\n",
       "<td>kilometres</td>\n",
       "<td>2200</td>\n",
       "<td>saloon</td>\n",
       "<td>diesel</td>\n",
       "<td>automatic</td>\n",
       "<td>4</td>\n",
       "<td>feed</td>\n",
       "</tr>\n",
       "<tr>\n",
       "<td style='text-align: right'>3</td>\n",
       "<td>4fd37b51753ef073d242664cbe136b27</td>\n",
       "<td>8/8/2016</td>\n",
       "<td>5150</td>\n",
       "<td>Tipperary</td>\n",
       "<td>toyota</td>\n",
       "<td>yaris</td>\n",
       "<td>2007</td>\n",
       "<td>red</td>\n",
       "<td>65511</td>\n",
       "<td>kilometres</td>\n",
       "<td>1000</td>\n",
       "<td>hatchback</td>\n",
       "<td>petrol</td>\n",
       "<td>manual</td>\n",
       "<td>5</td>\n",
       "<td>private</td>\n",
       "</tr>\n",
       "<tr>\n",
       "<td style='text-align: right'>4</td>\n",
       "<td>c4d50c214f33d26b070bea3afaef3f94</td>\n",
       "<td>9/6/2016</td>\n",
       "<td>350</td>\n",
       "<td>Tipperary</td>\n",
       "<td>opel</td>\n",
       "<td>astra</td>\n",
       "<td>2002</td>\n",
       "<td>silver</td>\n",
       "<td>153000</td>\n",
       "<td>miles</td>\n",
       "<td>1400</td>\n",
       "<td>saloon</td>\n",
       "<td>petrol</td>\n",
       "<td>manual</td>\n",
       "<td>4</td>\n",
       "<td>private</td>\n",
       "</tr>\n",
       "<tr>\n",
       "<td style='text-align: right'>5</td>\n",
       "<td>3214bb3fd055ab19a2299f748338e6fd</td>\n",
       "<td>8/16/2016</td>\n",
       "<td>34950</td>\n",
       "<td>Clare</td>\n",
       "<td>audi</td>\n",
       "<td>a6</td>\n",
       "<td>2014</td>\n",
       "<td>black</td>\n",
       "<td>18800</td>\n",
       "<td>miles</td>\n",
       "<td>2000</td>\n",
       "<td>estate</td>\n",
       "<td>diesel</td>\n",
       "<td>manual</td>\n",
       "<td>5</td>\n",
       "<td>trader</td>\n",
       "</tr>\n",
       "</tbody>\n",
       "</table>\n",
       "<p><strong>...</strong></p>"
      ],
      "text/plain": [
       "+-----+------------------------------------+-------------+---------+-------------+-----------------+---------+--------+----------+----------+--------------+-----------+-------------+-----------+--------------+-------+-------------+\n",
       "| row | ad                                 | date        | price   | county      | make            | model   | year   | colour   | mileage  | mileageType  | engine_cc | body_type   | fuel_type | transmission | doors | seller_type |\n",
       "+=====+====================================+=============+=========+=============+=================+=========+========+==========+==========+==============+===========+=============+===========+==============+=======+=============+\n",
       "|   1 | 'f4ec8a11c20bd4da5322c6cf48f49560' | '8/12/2016' | '1250'  | 'Tipperary' | 'ford'          | 'focus' | '2004' | 'grey'   | '182620' | 'miles'      | '1800'    | 'saloon'    | 'diesel'  | 'manual'     | '4'   | 'feed'      |\n",
       "+-----+------------------------------------+-------------+---------+-------------+-----------------+---------+--------+----------+----------+--------------+-----------+-------------+-----------+--------------+-------+-------------+\n",
       "|   2 | '2deccc36451be8362cd4faa696d5039c' | '7/13/2016' | '11500' | 'Limerick'  | 'mercedes-benz' | 'e'     | '2008' | 'other'  | '186000' | 'kilometres' | '2200'    | 'saloon'    | 'diesel'  | 'automatic'  | '4'   | 'feed'      |\n",
       "+-----+------------------------------------+-------------+---------+-------------+-----------------+---------+--------+----------+----------+--------------+-----------+-------------+-----------+--------------+-------+-------------+\n",
       "|   3 | '4fd37b51753ef073d242664cbe136b27' | '8/8/2016'  | '5150'  | 'Tipperary' | 'toyota'        | 'yaris' | '2007' | 'red'    | '65511'  | 'kilometres' | '1000'    | 'hatchback' | 'petrol'  | 'manual'     | '5'   | 'private'   |\n",
       "+-----+------------------------------------+-------------+---------+-------------+-----------------+---------+--------+----------+----------+--------------+-----------+-------------+-----------+--------------+-------+-------------+\n",
       "|   4 | 'c4d50c214f33d26b070bea3afaef3f94' | '9/6/2016'  | '350'   | 'Tipperary' | 'opel'          | 'astra' | '2002' | 'silver' | '153000' | 'miles'      | '1400'    | 'saloon'    | 'petrol'  | 'manual'     | '4'   | 'private'   |\n",
       "+-----+------------------------------------+-------------+---------+-------------+-----------------+---------+--------+----------+----------+--------------+-----------+-------------+-----------+--------------+-------+-------------+\n",
       "|   5 | '3214bb3fd055ab19a2299f748338e6fd' | '8/16/2016' | '34950' | 'Clare'     | 'audi'          | 'a6'    | '2014' | 'black'  | '18800'  | 'miles'      | '2000'    | 'estate'    | 'diesel'  | 'manual'     | '5'   | 'trader'    |\n",
       "+-----+------------------------------------+-------------+---------+-------------+-----------------+---------+--------+----------+----------+--------------+-----------+-------------+-----------+--------------+-------+-------------+\n",
       "..."
      ]
     },
     "execution_count": 5,
     "metadata": {},
     "output_type": "execute_result"
    }
   ],
   "source": [
    "etl.addrownumbers(table)"
   ]
  },
  {
   "cell_type": "code",
   "execution_count": 6,
   "metadata": {},
   "outputs": [],
   "source": [
    "#select the mileagetype KM only\n",
    "table1 = etl.select(table, lambda rec: rec.mileageType == 'km' )"
   ]
  },
  {
   "cell_type": "code",
   "execution_count": null,
   "metadata": {},
   "outputs": [],
   "source": [
    "table1"
   ]
  },
  {
   "cell_type": "code",
   "execution_count": 7,
   "metadata": {},
   "outputs": [
    {
     "data": {
      "text/html": [
       "<table class='petl'>\n",
       "<thead>\n",
       "<tr>\n",
       "<th>mileageType</th>\n",
       "<th>value</th>\n",
       "</tr>\n",
       "</thead>\n",
       "<tbody>\n",
       "<tr>\n",
       "<td>km</td>\n",
       "<td style='text-align: right'>112</td>\n",
       "</tr>\n",
       "</tbody>\n",
       "</table>\n"
      ],
      "text/plain": [
       "+-------------+-------+\n",
       "| mileageType | value |\n",
       "+=============+=======+\n",
       "| 'km'        |   112 |\n",
       "+-------------+-------+"
      ]
     },
     "execution_count": 7,
     "metadata": {},
     "output_type": "execute_result"
    }
   ],
   "source": [
    "etl.aggregate(table1,'mileageType',len)"
   ]
  },
  {
   "cell_type": "code",
   "execution_count": null,
   "metadata": {},
   "outputs": [],
   "source": [
    "table1.tocsv('km.csv')"
   ]
  },
  {
   "cell_type": "code",
   "execution_count": 8,
   "metadata": {},
   "outputs": [],
   "source": [
    "from sklearn import preprocessing"
   ]
  },
  {
   "cell_type": "code",
   "execution_count": 9,
   "metadata": {},
   "outputs": [],
   "source": [
    "df = pd.read_csv('C:/Users/Shailesh/km.csv',header=None,skiprows=1, usecols=[8,9])"
   ]
  },
  {
   "cell_type": "code",
   "execution_count": 10,
   "metadata": {},
   "outputs": [],
   "source": [
    "#standardise the mileage in km\n",
    "std_scale = preprocessing.StandardScaler().fit(df[[8]])\n"
   ]
  },
  {
   "cell_type": "code",
   "execution_count": 11,
   "metadata": {},
   "outputs": [],
   "source": [
    "df_std = std_scale.transform(df[[8]])"
   ]
  },
  {
   "cell_type": "code",
   "execution_count": 12,
   "metadata": {},
   "outputs": [
    {
     "data": {
      "text/plain": [
       "1.0"
      ]
     },
     "execution_count": 12,
     "metadata": {},
     "output_type": "execute_result"
    }
   ],
   "source": [
    "df_std.std()"
   ]
  },
  {
   "cell_type": "code",
   "execution_count": 13,
   "metadata": {},
   "outputs": [],
   "source": [
    "minmax_scale = preprocessing.MinMaxScaler().fit(df[[8]])\n",
    "df_minmax = minmax_scale.transform(df[[8]])"
   ]
  },
  {
   "cell_type": "code",
   "execution_count": 14,
   "metadata": {},
   "outputs": [
    {
     "data": {
      "text/plain": [
       "0.2280432927743693"
      ]
     },
     "execution_count": 14,
     "metadata": {},
     "output_type": "execute_result"
    }
   ],
   "source": [
    "df_minmax.std()"
   ]
  },
  {
   "cell_type": "code",
   "execution_count": null,
   "metadata": {},
   "outputs": [],
   "source": []
  }
 ],
 "metadata": {
  "kernelspec": {
   "display_name": "Python 3",
   "language": "python",
   "name": "python3"
  },
  "language_info": {
   "codemirror_mode": {
    "name": "ipython",
    "version": 3
   },
   "file_extension": ".py",
   "mimetype": "text/x-python",
   "name": "python",
   "nbconvert_exporter": "python",
   "pygments_lexer": "ipython3",
   "version": "3.6.4"
  }
 },
 "nbformat": 4,
 "nbformat_minor": 2
}
